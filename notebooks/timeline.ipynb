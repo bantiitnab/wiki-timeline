{
 "cells": [
  {
   "cell_type": "code",
   "execution_count": 173,
   "metadata": {},
   "outputs": [
    {
     "name": "stdout",
     "output_type": "stream",
     "text": [
      "John john PROPN NNP\n",
      "is be VERB VBZ\n",
      "travelling travel VERB VBG\n",
      "to to ADP IN\n",
      "Paris paris PROPN NNP\n",
      "tomorrow tomorrow NOUN NN\n"
     ]
    }
   ],
   "source": [
    "import spacy\n",
    "\n",
    "nlp = spacy.load('en_core_web_sm')\n",
    "# doc = nlp(u'Apple is looking at buying U.K. startup for $1 billion')\n",
    "doc = nlp(u'John is travelling to Paris tomorrow')\n",
    "\n",
    "for token in doc:\n",
    "#     print(token.text, token.lemma_, token.pos_, token.tag_, token.dep_,token.shape_, token.is_alpha, token.is_stop)\n",
    "    print(token.text, token.lemma_, token.pos_, token.tag_)"
   ]
  },
  {
   "cell_type": "code",
   "execution_count": 174,
   "metadata": {},
   "outputs": [
    {
     "name": "stdout",
     "output_type": "stream",
     "text": [
      "10 36 38 CARDINAL\n",
      "35 40 42 DATE\n",
      "44 44 46 DATE\n",
      "32 51 53 DATE\n"
     ]
    }
   ],
   "source": [
    "doc = nlp(u'John is travelling to Paris tomorrow and on 23 march 2012 and day after tomorrow')\n",
    "s = 'He started the series wth scores of 10, 35, 44 and 32.'\n",
    "doc = nlp(s)\n",
    "for ent in doc.ents:\n",
    "    print(ent.text, ent.start_char, ent.end_char, ent.label_)"
   ]
  },
  {
   "cell_type": "code",
   "execution_count": 176,
   "metadata": {},
   "outputs": [
    {
     "name": "stdout",
     "output_type": "stream",
     "text": [
      "gg\n"
     ]
    },
    {
     "data": {
      "text/plain": [
       "datetime.datetime(2018, 7, 25, 7, 8, 35, 235864)"
      ]
     },
     "execution_count": 176,
     "metadata": {},
     "output_type": "execute_result"
    }
   ],
   "source": [
    "a = False\n",
    "if a:\n",
    "    print('ff')\n",
    "else:\n",
    "    print('gg')\n",
    "    \n",
    "datetime.now()"
   ]
  },
  {
   "cell_type": "code",
   "execution_count": 177,
   "metadata": {},
   "outputs": [
    {
     "data": {
      "text/plain": [
       "True"
      ]
     },
     "execution_count": 177,
     "metadata": {},
     "output_type": "execute_result"
    }
   ],
   "source": [
    "a = None\n",
    "not a"
   ]
  },
  {
   "cell_type": "code",
   "execution_count": 178,
   "metadata": {},
   "outputs": [
    {
     "data": {
      "text/plain": [
       "['dsf,fdfd', 'fdfd', 'fdfd']"
      ]
     },
     "execution_count": 178,
     "metadata": {},
     "output_type": "execute_result"
    }
   ],
   "source": [
    "'dsf,fdfd fdfd fdfd'.split()"
   ]
  },
  {
   "cell_type": "code",
   "execution_count": 109,
   "metadata": {},
   "outputs": [],
   "source": [
    "import copy\n",
    "import logging\n",
    "import regex as re\n",
    "from dateutil import tz, parser\n",
    "import pdb\n",
    "\n",
    "logger = logging.getLogger('datefinder')\n",
    "\n",
    "\n",
    "class DateFinder(object):\n",
    "    \"\"\"\n",
    "    Locates dates in a text\n",
    "    \"\"\"\n",
    "\n",
    "    DIGITS_MODIFIER_PATTERN = '\\d+st|\\d+th|\\d+rd|first|second|third|fourth|fifth|sixth|seventh|eighth|nineth|tenth|next|last'\n",
    "    DIGITS_PATTERN = '\\d+'\n",
    "    DAYS_PATTERN = 'monday|tuesday|wednesday|thursday|friday|saturday|sunday|mon|tue|tues|wed|thur|thurs|fri|sat|sun'\n",
    "    MONTHS_PATTERN = 'january|february|march|april|may|june|july|august|september|october|november|december|jan|feb|mar|apr|may|jun|jul|aug|sep|sept|oct|nov|dec'\n",
    "    TIMEZONES_PATTERN = 'ACDT|ACST|ACT|ACWDT|ACWST|ADDT|ADMT|ADT|AEDT|AEST|AFT|AHDT|AHST|AKDT|AKST|AKTST|AKTT|ALMST|ALMT|AMST|AMT|ANAST|ANAT|ANT|APT|AQTST|AQTT|ARST|ART|ASHST|ASHT|AST|AWDT|AWST|AWT|AZOMT|AZOST|AZOT|AZST|AZT|BAKST|BAKT|BDST|BDT|BEAT|BEAUT|BIOT|BMT|BNT|BORT|BOST|BOT|BRST|BRT|BST|BTT|BURT|CANT|CAPT|CAST|CAT|CAWT|CCT|CDDT|CDT|CEDT|CEMT|CEST|CET|CGST|CGT|CHADT|CHAST|CHDT|CHOST|CHOT|CIST|CKHST|CKT|CLST|CLT|CMT|COST|COT|CPT|CST|CUT|CVST|CVT|CWT|CXT|ChST|DACT|DAVT|DDUT|DFT|DMT|DUSST|DUST|EASST|EAST|EAT|ECT|EDDT|EDT|EEDT|EEST|EET|EGST|EGT|EHDT|EMT|EPT|EST|ET|EWT|FET|FFMT|FJST|FJT|FKST|FKT|FMT|FNST|FNT|FORT|FRUST|FRUT|GALT|GAMT|GBGT|GEST|GET|GFT|GHST|GILT|GIT|GMT|GST|GYT|HAA|HAC|HADT|HAE|HAP|HAR|HAST|HAT|HAY|HDT|HKST|HKT|HLV|HMT|HNA|HNC|HNE|HNP|HNR|HNT|HNY|HOVST|HOVT|HST|ICT|IDDT|IDT|IHST|IMT|IOT|IRDT|IRKST|IRKT|IRST|ISST|IST|JAVT|JCST|JDT|JMT|JST|JWST|KART|KDT|KGST|KGT|KIZST|KIZT|KMT|KOST|KRAST|KRAT|KST|KUYST|KUYT|KWAT|LHDT|LHST|LINT|LKT|LMT|LMT|LMT|LMT|LRT|LST|MADMT|MADST|MADT|MAGST|MAGT|MALST|MALT|MART|MAWT|MDDT|MDST|MDT|MEST|MET|MHT|MIST|MIT|MMT|MOST|MOT|MPT|MSD|MSK|MSM|MST|MUST|MUT|MVT|MWT|MYT|NCST|NCT|NDDT|NDT|NEGT|NEST|NET|NFT|NMT|NOVST|NOVT|NPT|NRT|NST|NT|NUT|NWT|NZDT|NZMT|NZST|OMSST|OMST|ORAST|ORAT|PDDT|PDT|PEST|PET|PETST|PETT|PGT|PHOT|PHST|PHT|PKST|PKT|PLMT|PMDT|PMMT|PMST|PMT|PNT|PONT|PPMT|PPT|PST|PT|PWT|PYST|PYT|QMT|QYZST|QYZT|RET|RMT|ROTT|SAKST|SAKT|SAMT|SAST|SBT|SCT|SDMT|SDT|SET|SGT|SHEST|SHET|SJMT|SLT|SMT|SRET|SRT|SST|STAT|SVEST|SVET|SWAT|SYOT|TAHT|TASST|TAST|TBIST|TBIT|TBMT|TFT|THA|TJT|TKT|TLT|TMT|TOST|TOT|TRST|TRT|TSAT|TVT|ULAST|ULAT|URAST|URAT|UTC|UYHST|UYST|UYT|UZST|UZT|VET|VLAST|VLAT|VOLST|VOLT|VOST|VUST|VUT|WARST|WART|WAST|WAT|WDT|WEDT|WEMT|WEST|WET|WFT|WGST|WGT|WIB|WIT|WITA|WMT|WSDT|WSST|WST|WT|XJT|YAKST|YAKT|YAPT|YDDT|YDT|YEKST|YEKST|YEKT|YEKT|YERST|YERT|YPT|YST|YWT|zzz'\n",
    "    ## explicit north american timezones that get replaced\n",
    "    NA_TIMEZONES_PATTERN = 'pacific|eastern|mountain|central'\n",
    "    ALL_TIMEZONES_PATTERN = TIMEZONES_PATTERN + '|' + NA_TIMEZONES_PATTERN\n",
    "    DELIMITERS_PATTERN = '[/\\:\\-\\,\\s\\_\\+\\@]+'\n",
    "    TIME_PERIOD_PATTERN = 'a\\.m\\.|am|p\\.m\\.|pm'\n",
    "    ## can be in date strings but not recognized by dateutils\n",
    "    EXTRA_TOKENS_PATTERN = 'due|by|on|standard|daylight|savings|time|date|of|to|until|z|at|t'\n",
    "\n",
    "    ## TODO: Get english numbers?\n",
    "    ## http://www.rexegg.com/regex-trick-numbers-in-english.html\n",
    "\n",
    "    RELATIVE_PATTERN = 'before|after|next|last|ago'\n",
    "    TIME_SHORTHAND_PATTERN = 'noon|midnight|today|yesterday'\n",
    "    UNIT_PATTERN = 'second|minute|hour|day|week|month|year'\n",
    "\n",
    "    ## Time pattern is used independently, so specified here.\n",
    "    TIME_PATTERN = \"\"\"\n",
    "    (?P<time>\n",
    "        ## Captures in format XX:YY(:ZZ) (PM) (EST)\n",
    "        (\n",
    "            (?P<hours>\\d{{1,2}})\n",
    "            \\:\n",
    "            (?P<minutes>\\d{{1,2}})\n",
    "            (\\:(?<seconds>\\d{{1,2}}))?\n",
    "            ([\\.\\,](?<microseconds>\\d{{1,6}}))?\n",
    "            \\s*\n",
    "            (?P<time_periods>{time_periods})?\n",
    "            \\s*\n",
    "            (?P<timezones>{timezones})?\n",
    "        )\n",
    "        |\n",
    "        ## Captures in format 11 AM (EST)\n",
    "        ## Note with single digit capture requires time period\n",
    "        (\n",
    "            (?P<hours>\\d{{1,2}})\n",
    "            \\s*\n",
    "            (?P<time_periods>{time_periods})\n",
    "            \\s*\n",
    "            (?P<timezones>{timezones})*\n",
    "        )\n",
    "    )\n",
    "    \"\"\".format(\n",
    "        time_periods=TIME_PERIOD_PATTERN,\n",
    "        timezones=ALL_TIMEZONES_PATTERN\n",
    "    )\n",
    "\n",
    "    DATES_PATTERN = \"\"\"\n",
    "    (\n",
    "        (\n",
    "            {time}\n",
    "            |\n",
    "            ## Grab any digits\n",
    "            (?P<digits_modifier>{digits_modifier})\n",
    "            |\n",
    "            (?P<digits>{digits})\n",
    "            |\n",
    "            (?P<days>{days})\n",
    "            |\n",
    "            (?P<months>{months})\n",
    "            |\n",
    "            ## Delimiters, ie Tuesday[,] July 18 or 6[/]17[/]2008\n",
    "            ## as well as whitespace\n",
    "            (?P<delimiters>{delimiters})\n",
    "            |\n",
    "            ## These tokens could be in phrases that dateutil does not yet recognize\n",
    "            ## Some are US Centric\n",
    "            (?P<extra_tokens>{extra_tokens})\n",
    "        ## We need at least three items to match for minimal datetime parsing\n",
    "        ## ie 10pm\n",
    "        ){{3,}}\n",
    "    )\n",
    "    \"\"\"\n",
    "\n",
    "    DATES_PATTERN = DATES_PATTERN.format(\n",
    "        time=TIME_PATTERN,\n",
    "        digits=DIGITS_PATTERN,\n",
    "        digits_modifier=DIGITS_MODIFIER_PATTERN,\n",
    "        days=DAYS_PATTERN,\n",
    "        months=MONTHS_PATTERN,\n",
    "        delimiters=DELIMITERS_PATTERN,\n",
    "        extra_tokens=EXTRA_TOKENS_PATTERN\n",
    "    )\n",
    "\n",
    "    DATE_REGEX = re.compile(DATES_PATTERN, re.IGNORECASE | re.MULTILINE | re.UNICODE | re.DOTALL | re.VERBOSE)\n",
    "\n",
    "    TIME_REGEX = re.compile(TIME_PATTERN, re.IGNORECASE | re.MULTILINE | re.UNICODE | re.DOTALL | re.VERBOSE)\n",
    "\n",
    "    ## These tokens can be in original text but dateutil\n",
    "    ## won't handle them without modification\n",
    "    REPLACEMENTS = {\n",
    "        \"standard\": \" \",\n",
    "        \"daylight\": \" \",\n",
    "        \"savings\": \" \",\n",
    "        \"time\": \" \",\n",
    "        \"date\": \" \",\n",
    "        \"by\": \" \",\n",
    "        \"due\": \" \",\n",
    "        \"on\": \" \",\n",
    "        \"to\": \" \",\n",
    "    }\n",
    "\n",
    "    TIMEZONE_REPLACEMENTS = {\n",
    "        \"pacific\": \"PST\",\n",
    "        \"eastern\": \"EST\",\n",
    "        \"mountain\": \"MST\",\n",
    "        \"central\": \"CST\",\n",
    "    }\n",
    "\n",
    "    ## Characters that can be removed from ends of matched strings\n",
    "    STRIP_CHARS = ' \\n\\t:-.,_'\n",
    "\n",
    "    def __init__(self, base_date=None):\n",
    "        self.base_date = base_date\n",
    "\n",
    "    def find_dates(self, text, source=False, index=False, strict=False):\n",
    "#         pdb.set_trace()\n",
    "\n",
    "        for date_string, indices, captures in self.extract_date_strings(text, strict=strict):\n",
    "\n",
    "            as_dt = self.parse_date_string(date_string, captures)\n",
    "            if as_dt is None:\n",
    "                ## Dateutil couldn't make heads or tails of it\n",
    "                ## move on to next\n",
    "                continue\n",
    "\n",
    "            returnables = (as_dt,)\n",
    "            if source:\n",
    "                returnables = returnables + (date_string,)\n",
    "            if index:\n",
    "                returnables = returnables + (indices,)\n",
    "\n",
    "            if len(returnables) == 1:\n",
    "                returnables = returnables[0]\n",
    "            yield returnables\n",
    "\n",
    "    def _find_and_replace(self, date_string, captures):\n",
    "        \"\"\"\n",
    "        :warning: when multiple tz matches exist the last sorted capture will trump\n",
    "        :param date_string:\n",
    "        :return: date_string, tz_string\n",
    "        \"\"\"\n",
    "        # add timezones to replace\n",
    "        cloned_replacements = copy.copy(self.REPLACEMENTS)  # don't mutate\n",
    "        for tz_string in captures.get('timezones', []):\n",
    "            cloned_replacements.update({tz_string: ' '})\n",
    "\n",
    "        date_string = date_string.lower()\n",
    "        for key, replacement in cloned_replacements.items():\n",
    "            # we really want to match all permutations of the key surrounded by whitespace chars except one\n",
    "            # for example: consider the key = 'to'\n",
    "            # 1. match 'to '\n",
    "            # 2. match ' to'\n",
    "            # 3. match ' to '\n",
    "            # but never match r'(\\s|)to(\\s|)' which would make 'october' > 'ocber'\n",
    "            date_string = re.sub(r'(^|\\s)' + key + '(\\s|$)', replacement, date_string, flags=re.IGNORECASE)\n",
    "\n",
    "        return date_string, self._pop_tz_string(sorted(captures.get('timezones', [])))\n",
    "\n",
    "    def _pop_tz_string(self, list_of_timezones):\n",
    "        try:\n",
    "            tz_string = list_of_timezones.pop()\n",
    "            # make sure it's not a timezone we\n",
    "            # want replaced with better abbreviation\n",
    "            return self.TIMEZONE_REPLACEMENTS.get(tz_string, tz_string)\n",
    "        except IndexError:\n",
    "            return ''\n",
    "\n",
    "    def _add_tzinfo(self, datetime_obj, tz_string):\n",
    "        \"\"\"\n",
    "        take a naive datetime and add dateutil.tz.tzinfo object\n",
    "        :param datetime_obj: naive datetime object\n",
    "        :return: datetime object with tzinfo\n",
    "        \"\"\"\n",
    "        if datetime_obj is None:\n",
    "            return None\n",
    "\n",
    "        tzinfo_match = tz.gettz(tz_string)\n",
    "        return datetime_obj.replace(tzinfo=tzinfo_match)\n",
    "\n",
    "    def parse_date_string(self, date_string, captures):\n",
    "        # For well formatted string, we can already let dateutils parse them\n",
    "        # otherwise self._find_and_replace method might corrupt them\n",
    "        try:\n",
    "            as_dt = parser.parse(date_string, default=self.base_date)\n",
    "        except ValueError:\n",
    "            # replace tokens that are problematic for dateutil\n",
    "            date_string, tz_string = self._find_and_replace(date_string, captures)\n",
    "\n",
    "            ## One last sweep after removing\n",
    "            date_string = date_string.strip(self.STRIP_CHARS)\n",
    "            ## Match strings must be at least 3 characters long\n",
    "            ## < 3 tends to be garbage\n",
    "            if len(date_string) < 3:\n",
    "                return None\n",
    "\n",
    "            try:\n",
    "                logger.debug('Parsing {0} with dateutil'.format(date_string))\n",
    "                as_dt = parser.parse(date_string, default=self.base_date)\n",
    "            except Exception as e:\n",
    "                logger.debug(e)\n",
    "                as_dt = None\n",
    "            if tz_string:\n",
    "                as_dt = self._add_tzinfo(as_dt, tz_string)\n",
    "        return as_dt\n",
    "\n",
    "    def extract_date_strings(self, text, strict=False):\n",
    "        \"\"\"\n",
    "        Scans text for possible datetime strings and extracts them\n",
    "        source: also return the original date string\n",
    "        index: also return the indices of the date string in the text\n",
    "        strict: Strict mode will only return dates sourced with day, month, and year\n",
    "        \"\"\"\n",
    "        for match in self.DATE_REGEX.finditer(text):\n",
    "            match_str = match.group(0)\n",
    "            indices = match.span(0)\n",
    "\n",
    "            ## Get individual group matches\n",
    "            captures = match.capturesdict()\n",
    "            time = captures.get('time')\n",
    "            digits = captures.get('digits')\n",
    "            digits_modifiers = captures.get('digits_modifiers')\n",
    "            days = captures.get('days')\n",
    "            months = captures.get('months')\n",
    "            timezones = captures.get('timezones')\n",
    "            delimiters = captures.get('delimiters')\n",
    "            time_periods = captures.get('time_periods')\n",
    "            extra_tokens = captures.get('extra_tokens')\n",
    "\n",
    "            if strict:\n",
    "                complete = False\n",
    "                ## 12-05-2015\n",
    "                if len(digits) == 3:\n",
    "                    complete = True\n",
    "                ## 19 February 2013 year 09:10\n",
    "                elif (len(months) == 1) and (len(digits) == 2):\n",
    "                    complete = True\n",
    "\n",
    "                if not complete:\n",
    "                    continue\n",
    "\n",
    "            ## sanitize date string\n",
    "            ## replace unhelpful whitespace characters with single whitespace\n",
    "            match_str = re.sub('[\\n\\t\\s\\xa0]+', ' ', match_str)\n",
    "            match_str = match_str.strip(self.STRIP_CHARS)\n",
    "\n",
    "            ## Save sanitized source string\n",
    "            yield match_str, indices, captures\n",
    "\n",
    "\n",
    "def find_dates(\n",
    "    text,\n",
    "    source=False,\n",
    "    index=False,\n",
    "    strict=False,\n",
    "    base_date=None\n",
    "    ):\n",
    "    \"\"\"\n",
    "    Extract datetime strings from text\n",
    "    :param text:\n",
    "        A string that contains one or more natural language or literal\n",
    "        datetime strings\n",
    "    :type text: str|unicode\n",
    "    :param source:\n",
    "        Return the original string segment\n",
    "    :type source: boolean\n",
    "    :param index:\n",
    "        Return the indices where the datetime string was located in text\n",
    "    :type index: boolean\n",
    "    :param strict:\n",
    "        Only return datetimes with complete date information. For example:\n",
    "        `July 2016` of `Monday` will not return datetimes.\n",
    "        `May 16, 2015` will return datetimes.\n",
    "    :type strict: boolean\n",
    "    :param base_date:\n",
    "        Set a default base datetime when parsing incomplete dates\n",
    "    :type base_date: datetime\n",
    "    :return: Returns a generator that produces :mod:`datetime.datetime` objects,\n",
    "        or a tuple with the source text and index, if requested\n",
    "    \"\"\"\n",
    "    date_finder = DateFinder(base_date=base_date)\n",
    "    return date_finder.find_dates(text, source=source, index=index, strict=strict)"
   ]
  },
  {
   "cell_type": "code",
   "execution_count": 121,
   "metadata": {},
   "outputs": [],
   "source": [
    "# str = 'entries are due by January 4th, 2017 at 8:00pm'\n",
    "\n",
    "# str = 'The tax came into effect from July 1, 2017 through the implementation of One Hundred and First Amendment of the Constitution of India by the Indian government. The tax replaced existing multiple cascading taxes levied by the central and state governments.'\n",
    "str = \"\"\"The reform process of India's indirect tax regime was started in 1986 by Vishwanath Pratap Singh, Finance Minister in Rajiv Gandhi’s government, with the introduction of the Modified Value Added Tax (MODVAT). Subsequently, Prime Minister P V Narasimha Rao and his Finance Minister Manmohan Singh, initiated early discussions on a Value Added Tax (VAT) at the state level.[5] A single common \"Goods and Services Tax (GST)\" was proposed and given a go-ahead in 1999 during a meeting between the Prime Minister Atal Bihari Vajpayee and his economic advisory panel, which included three former RBI governors IG Patel, Bimal Jalan and C Rangarajan. Vajpayee set up a committee headed by the Finance Minister of West Bengal, Asim Dasgupta to design a GST model.\n",
    "The Ravi Dasgupta committee which was also tasked with putting in place the back-end technology and logistics (later came to be known as the GST Network, or GSTN, in 2017). it later came out for rolling out a uniform taxation regime in the country. In 2002, the Vajpayee government formed a task force under Vijay Kelkar to recommend tax reforms. In 2005, the Kelkar committee recommended rolling out GST as suggested by the 12th Finance Commission.\n",
    "After the defeat of the BJP-led NDA government in the 2004 Lok Sabha election and the election of a Congress-led UPA government, the new Finance Minister P Chidambaram in February 2006 continued work on the same and proposed a GST rollout by 1 April 2010. However, in 2010, with the Trinamool Congress routing CPI(M) out of power in West Bengal, Asim Dasgupta resigned as the head of the GST committee. Dasgupta admitted in an interview that 80% of the task had been done.\n",
    "In the 2014 Lok Sabha election, the Bharatiya Janata Party-led NDA government was elected into power. With the consequential dissolution of the 15th Lok Sabha, the GST Bill – approved by the standing committee for reintroduction – lapsed. Seven months after the formation of the Modi government, the new Finance Minister Arun Jaitley introduced the GST Bill in the Lok Sabha, where the BJP had a majority. In February 2015, Jaitley set another deadline of 1 April 2017 to implement GST. In May 2016, the Lok Sabha passed the Constitution Amendment Bill, paving way for GST. However, the Opposition, led by the Congress, demanded that the GST Bill be again sent back to the Select Committee of the Rajya Sabha due to disagreements on several statements in the Bill relating to taxation. Finally in August 2016, the Amendment Bill was passed. Over the next 15 to 20 days, 18 states ratified the Constitution amendment Bill and the President Pranab Mukherjee gave his assent to it.\n",
    "A 21-member selected committee was formed to look into the proposed GST laws.[9] After GST Council approved the Central Goods and Services Tax Bill 2017 (The CGST Bill), the Integrated Goods and Services Tax Bill 2017 (The IGST Bill), the Union Territory Goods and Services Tax Bill 2017 (The UTGST Bill), the Goods and Services Tax (Compensation to the States) Bill 2017 (The Compensation Bill), these Bills were passed by the Lok Sabha on 29 March, 2017. The Rajya Sabha passed these Bills on 6 April, 2017 and were then enacted as Acts on 12 April, 2017. Thereafter, State Legislatures of different States have passed respective State Goods and Services Tax Bills. After the enactment of various GST laws, Goods and Services Tax was launched all over India with effect from 1 July 2017.[10] The Jammu and Kashmir state legislature passed its GST act on 7 July 2017, thereby ensuring that the entire nation is brought under an unified indirect taxation system. There was to be no GST on the sale and purchase of securities.'\n",
    "\"\"\"\n",
    "str = 'entries are due on jan 23 2018 and feb 24 2017'\n",
    "str = 'on 2018'\n",
    "str = 'on yesterday'\n",
    "matches = find_dates(str)\n",
    "for match in matches:\n",
    "    print(match)"
   ]
  },
  {
   "cell_type": "code",
   "execution_count": 123,
   "metadata": {},
   "outputs": [
    {
     "ename": "ValueError",
     "evalue": "month must be in 1..12",
     "output_type": "error",
     "traceback": [
      "\u001b[0;31m---------------------------------------------------------------------------\u001b[0m",
      "\u001b[0;31mValueError\u001b[0m                                Traceback (most recent call last)",
      "\u001b[0;32m<ipython-input-123-55d1dacdb0e1>\u001b[0m in \u001b[0;36m<module>\u001b[0;34m()\u001b[0m\n\u001b[1;32m      1\u001b[0m \u001b[0;32mfrom\u001b[0m \u001b[0mdatetime\u001b[0m \u001b[0;32mimport\u001b[0m \u001b[0mdatetime\u001b[0m\u001b[0;34m\u001b[0m\u001b[0m\n\u001b[0;32m----> 2\u001b[0;31m \u001b[0mparser\u001b[0m\u001b[0;34m.\u001b[0m\u001b[0mparse\u001b[0m\u001b[0;34m(\u001b[0m\u001b[0;34m'jan 2018'\u001b[0m\u001b[0;34m,\u001b[0m \u001b[0mdefault\u001b[0m\u001b[0;34m=\u001b[0m\u001b[0mdatetime\u001b[0m\u001b[0;34m(\u001b[0m\u001b[0;36m1000\u001b[0m\u001b[0;34m,\u001b[0m \u001b[0;34m-\u001b[0m\u001b[0;36m1\u001b[0m\u001b[0;34m,\u001b[0m \u001b[0;34m-\u001b[0m\u001b[0;36m1\u001b[0m\u001b[0;34m)\u001b[0m\u001b[0;34m)\u001b[0m\u001b[0;34m\u001b[0m\u001b[0m\n\u001b[0m\u001b[1;32m      3\u001b[0m \u001b[0;31m# parser??\u001b[0m\u001b[0;34m\u001b[0m\u001b[0;34m\u001b[0m\u001b[0m\n",
      "\u001b[0;31mValueError\u001b[0m: month must be in 1..12"
     ]
    }
   ],
   "source": [
    "from datetime import datetime\n",
    "parser.parse('jan 2018', default=datetime(1000, 1, -1))\n",
    "# parser??"
   ]
  },
  {
   "cell_type": "markdown",
   "metadata": {},
   "source": [
    "## get wiki page"
   ]
  },
  {
   "cell_type": "code",
   "execution_count": 43,
   "metadata": {},
   "outputs": [],
   "source": [
    "import requests\n",
    "import re\n",
    "import bs4\n",
    "\n",
    "query_excludes = ['File:', 'Help:', 'Special:PrefixIndex']                \n",
    "wiki_base_url = 'https://en.wikipedia.org/wiki/'\n",
    "\n",
    "def get_wiki_pages(query):\n",
    "    # get response from wiki page    \n",
    "    response = requests.get(wiki_base_url + query)\n",
    "    \n",
    "    # we use bs4 for understanding html\n",
    "    soup = bs4.BeautifulSoup(response.text, 'html.parser')\n",
    "    # actual content of page\n",
    "    content = soup.find(id='mw-content-text')\n",
    "    \n",
    "    # if we find no page, we return None\n",
    "    # if query got directed to actual page, \n",
    "    # we would return this page \n",
    "    # else we would list out pages and get result for top one.\n",
    "    if soup.find(id='noarticletext'):\n",
    "        print('Failed to find any relevant page')\n",
    "        return None\n",
    "\n",
    "    if soup.find(id='References'):\n",
    "        return [query]\n",
    "    else:\n",
    "        links = content.find_all('a')\n",
    "        queries = []\n",
    "        # pattern to extract query from links\n",
    "        query_pat = re.compile('/wiki/([^\\\"]+)')\n",
    "        for link in links:    \n",
    "            match = re.search(query_pat, link['href'])\n",
    "            if match:\n",
    "                query_match = match.group(1)\n",
    "                \n",
    "                add_query = True\n",
    "                for exclude in query_excludes:\n",
    "                    if exclude in query_match:\n",
    "                        add_query = False\n",
    "                        break       \n",
    "                        \n",
    "                if add_query:\n",
    "                    queries.append(query_match)\n",
    "        return queries      \n",
    "    \n",
    "\n",
    "    \n",
    "    "
   ]
  },
  {
   "cell_type": "code",
   "execution_count": 42,
   "metadata": {},
   "outputs": [
    {
     "name": "stdout",
     "output_type": "stream",
     "text": [
      "Failed to find any relevant page\n"
     ]
    }
   ],
   "source": [
    "# get_wiki_pages('gst')\n",
    "# get_wiki_pages('Goods_and_Services_Tax_(India)')\n",
    "get_wiki_pages('3232fdfdfd')"
   ]
  },
  {
   "cell_type": "code",
   "execution_count": 31,
   "metadata": {},
   "outputs": [],
   "source": [
    "str = ' hello where \"/wiki/Sachin,_Pas-de-Calais\" 123 yeas'\n",
    "pat_wiki = re.compile('/wiki/([^\\\"]+)')\n",
    "matches = re.search(pat_wiki, str)"
   ]
  },
  {
   "cell_type": "code",
   "execution_count": 32,
   "metadata": {},
   "outputs": [],
   "source": [
    "# for match in matches:\n",
    "#     print(match)\n",
    "if matches:\n",
    "    print(matches.group(1))"
   ]
  },
  {
   "cell_type": "code",
   "execution_count": 153,
   "metadata": {},
   "outputs": [],
   "source": [
    "def get_page_lines(query):\n",
    "    # get the top relevant page for query\n",
    "    queries = get_wiki_pages(query)\n",
    "    if queries:\n",
    "        relevant_page_query = queries[0]\n",
    "    # get response\n",
    "    response = requests.get(wiki_base_url + relevant_page_query)    \n",
    "    \n",
    "    # build soup and get desired content\n",
    "    soup = bs4.BeautifulSoup(response.text, 'html.parser')    \n",
    "    main_content = soup.find(class_='mw-parser-output')\n",
    "    \n",
    "    # pick up the text in form of lines    \n",
    "    node = main_content.contents[0]\n",
    "    lines = []    \n",
    "    while node is not None:\n",
    "        if not isinstance(node, bs4.NavigableString):\n",
    "            if node.find(id='References'):\n",
    "                print('Extracting lines stopped...')\n",
    "                break\n",
    "                \n",
    "            # replace [43] kind of references\n",
    "            para = re.sub('\\[\\d+\\]', '', node.text)\n",
    "            # split para into lines\n",
    "            para_lines = re.split('(?<!\\w\\.\\w.)(?<![A-Z][a-z]\\.)(?<=\\.|\\?)\\s', para)\n",
    "            lines.append(para_lines)\n",
    "        node = node.next_sibling\n",
    "        \n",
    "        \n",
    "    return lines\n",
    "\n",
    "def sort_date_lines(date_lines):\n",
    "    date_lines.sort(key=lambda x: x[1][0])\n",
    "    return date_lines\n",
    "\n",
    "def extract_timeline(query):\n",
    "    lines = get_page_lines(query)           \n",
    "    \n",
    "    date_lines = []\n",
    "    for para_lines in lines:\n",
    "        for line in para_lines:            \n",
    "            matches = list(find_dates(line, strict=True))\n",
    "            if matches:\n",
    "                # print(line, matches)\n",
    "                date_lines.append([line, matches])\n",
    "    \n",
    "    date_lines = sort_date_lines(date_lines)\n",
    "    for d in date_lines:\n",
    "        print(d)\n",
    "                \n",
    "def get_spacy_date_ents(line):\n",
    "    date_ents = []\n",
    "    doc = nlp(line)\n",
    "    for ent in doc.ents:\n",
    "        if ent.label_ == 'DATE':\n",
    "            date_ents.append(ent.text)\n",
    "    return date_ents\n",
    "            \n",
    "    \n",
    "def extract_timeline_spacy(query):\n",
    "    lines = get_page_lines(query)        \n",
    "    \n",
    "    date_lines = []\n",
    "    for para_lines in lines:\n",
    "        for line in para_lines:               \n",
    "            date_ents = get_spacy_date_ents(line)            \n",
    "            date_matches = []\n",
    "            # print(line, date_ents)\n",
    "            for date_ent in date_ents:                \n",
    "                matches = list(find_dates('on ' + date_ent, strict=False))\n",
    "                if matches:\n",
    "#                     print(line)\n",
    "#                     for match in matches:\n",
    "#                         print(match)\n",
    "                    date_matches.append(matches[0])\n",
    "            if date_matches:\n",
    "                date_lines.append([line, date_matches])\n",
    "    \n",
    "    date_lines = sort_date_lines(date_lines)\n",
    "    for d in date_lines:\n",
    "        print(d)\n",
    "    "
   ]
  },
  {
   "cell_type": "code",
   "execution_count": 159,
   "metadata": {},
   "outputs": [],
   "source": [
    "# a = [1, 2, 3]\n",
    "# list(a)\n",
    "# response = open('/Users/akhilesh/Desktop/gst.htm', 'r')"
   ]
  },
  {
   "cell_type": "code",
   "execution_count": 171,
   "metadata": {},
   "outputs": [
    {
     "name": "stdout",
     "output_type": "stream",
     "text": [
      "[6, 7]\n"
     ]
    },
    {
     "data": {
      "text/plain": [
       "[0, 3]"
      ]
     },
     "execution_count": 171,
     "metadata": {},
     "output_type": "execute_result"
    }
   ],
   "source": [
    "# response.read()\n",
    "print(list(range(6,8)))\n",
    "list(range(0,5, 3))\n",
    "# import random\n",
    "# random.randint(0, 4, 4)"
   ]
  },
  {
   "cell_type": "code",
   "execution_count": 172,
   "metadata": {},
   "outputs": [
    {
     "name": "stdout",
     "output_type": "stream",
     "text": [
      "[5, 6]\n"
     ]
    },
    {
     "data": {
      "text/plain": [
       "[0, 3]"
      ]
     },
     "execution_count": 172,
     "metadata": {},
     "output_type": "execute_result"
    }
   ],
   "source": [
    "print(list(range(5,7)))\n",
    "list(range(0,4, 3))\n"
   ]
  },
  {
   "cell_type": "code",
   "execution_count": 154,
   "metadata": {},
   "outputs": [
    {
     "data": {
      "text/plain": [
       "[datetime.datetime(2018, 7, 24, 0, 0)]"
      ]
     },
     "execution_count": 154,
     "metadata": {},
     "output_type": "execute_result"
    }
   ],
   "source": [
    "# s = 'In February 2015, Jaitley set another deadline of 1 April 2017 to implement GST.'\n",
    "# get_spacy_date_ents(s)\n",
    "# a = [[1, 3], [2, 4], [3, 0]]\n",
    "# a = [[1, datetime(2012,1,1)], [2, datetime(2012,1,10)], [3, datetime(2011,1,1)]]\n",
    "# a.sort(key=lambda x: x[1])\n",
    "# a\n",
    "\n",
    "list(find_dates('on ' + '2018'))"
   ]
  },
  {
   "cell_type": "code",
   "execution_count": 155,
   "metadata": {},
   "outputs": [
    {
     "name": "stdout",
     "output_type": "stream",
     "text": [
      "Extracting lines stopped...\n",
      "[\"It is one of the few midnight sessions that have been held by the parliament - the others being the declaration of India's independence on 15 August 1947, and the silver and golden jubilees of that occasion.\", [datetime.datetime(1947, 8, 15, 0, 0)]]\n",
      "[\"The reform process of India's indirect tax regime was started in 1986 by Vishwanath Pratap Singh, Finance Minister in Rajiv Gandhi’s government, with the introduction of the Modified Value Added Tax (MODVAT).\", [datetime.datetime(1986, 7, 24, 0, 0)]]\n",
      "['A single common \"Goods and Services Tax (GST)\" was proposed and given a go-ahead in 1999 during a meeting between the  Prime Minister Atal Bihari Vajpayee and his economic advisory panel, which included three former RBI governors IG Patel, Bimal Jalan and C Rangarajan.', [datetime.datetime(1999, 7, 24, 0, 0)]]\n",
      "['In 2002, the Vajpayee government formed a task force under Vijay Kelkar to recommend tax reforms.', [datetime.datetime(2002, 7, 24, 0, 0)]]\n",
      "['After the defeat of the BJP-led NDA government in the 2004 Lok Sabha election and the election of a Congress-led UPA government, the new Finance Minister P Chidambaram in February 2006 continued work on the same and proposed a GST rollout by 1 April 2010.', [datetime.datetime(2004, 7, 24, 0, 0), datetime.datetime(2006, 2, 24, 0, 0), datetime.datetime(2010, 4, 1, 0, 0)]]\n",
      "['In 2005, the Kelkar committee recommended rolling out GST as suggested by the 12th Finance Commission.', [datetime.datetime(2005, 7, 24, 0, 0)]]\n",
      "['However, in 2010, with the Trinamool Congress routing CPI(M) out of power in West Bengal, Asim Dasgupta resigned as the head of the GST committee.', [datetime.datetime(2010, 7, 24, 0, 0)]]\n",
      "['In the 2014 Lok Sabha election, the Bharatiya Janata Party-led NDA government was elected into power.', [datetime.datetime(2014, 7, 24, 0, 0)]]\n",
      "['In February 2015, Jaitley set another deadline of 1 April 2017 to implement GST.', [datetime.datetime(2015, 2, 24, 0, 0), datetime.datetime(2017, 4, 1, 0, 0)]]\n",
      "['In May 2016, the Lok Sabha passed the Constitution Amendment Bill, paving way for GST.', [datetime.datetime(2016, 5, 24, 0, 0)]]\n",
      "['Finally in August 2016, the Amendment Bill was passed.', [datetime.datetime(2016, 8, 24, 0, 0)]]\n",
      "['The Rajya Sabha passed these Bills on 6 April, 2017 and were then enacted as Acts on 12 April, 2017.', [datetime.datetime(2017, 4, 6, 0, 0), datetime.datetime(2017, 4, 12, 0, 0)]]\n",
      "['(June 2017) (Learn how and when to remove this template message)', [datetime.datetime(2017, 6, 24, 0, 0)]]\n",
      "['The tax came into effect from July 1, 2017 through the implementation of One Hundred and First Amendment of the Constitution of India by the Indian government.', [datetime.datetime(2017, 7, 1, 0, 0)]]\n",
      "['After the enactment of various GST laws, Goods and Services Tax was launched all over India with effect from 1 July 2017.', [datetime.datetime(2017, 7, 1, 0, 0)]]\n",
      "['The GST was launched at midnight on  1 July 2017 by the President of India, Pranab Mukherjee, and the Government of India.', [datetime.datetime(2017, 7, 1, 0, 0)]]\n",
      "['The Jammu and Kashmir state legislature passed its GST act on 7 July 2017, thereby ensuring that the entire nation is brought under an unified indirect taxation system.', [datetime.datetime(2017, 7, 7, 0, 0)]]\n",
      "['The Ravi Dasgupta committee which was also tasked with putting in place the back-end technology and logistics (later came to be known as the GST Network, or GSTN, in 2017).', [datetime.datetime(2017, 7, 24, 0, 0)]]\n",
      "['After GST Council approved the Central Goods and Services Tax Bill 2017 (The CGST Bill), the Integrated Goods and Services Tax Bill 2017 (The IGST Bill), the Union Territory Goods and Services Tax Bill 2017 (The UTGST Bill), the Goods and Services Tax (Compensation to the States) Bill 2017 (The Compensation Bill), these Bills were passed by the Lok Sabha on 29 March, 2017.', [datetime.datetime(2017, 7, 24, 0, 0), datetime.datetime(2017, 7, 24, 0, 0), datetime.datetime(2017, 3, 29, 0, 0)]]\n",
      "['After its launch, the GST rates have been modified multiple times, the latest being on 18 January 2018, where a panel of federal and state finance ministers decided to revise GST rates on 29 goods and 53 services.', [datetime.datetime(2018, 1, 18, 0, 0)]]\n",
      "['The pilot started on 1st February 2018 but was withdrawn after glitches in the GST Network.', [datetime.datetime(2018, 2, 1, 0, 0)]]\n",
      "['It was successfully introduced in Karnataka from 1st April 2018.', [datetime.datetime(2018, 4, 1, 0, 0)]]\n",
      "['Six more states Jharkhand, Bihar, Tripura, Madhya Pradesh, Uttarakhand and Haryana will roll it out from 20th April 18.', [datetime.datetime(2018, 4, 20, 0, 0)]]\n",
      "['\\n\\nMonth\\nCollections\\nChange\\n\\n\\nMay\\n₹940.16 billion (US$14\\xa0billion)\\n\\n\\n\\nApril\\n₹1,034.58 billion (US$15\\xa0billion)\\n\\n\\n\\nMarch\\n₹892.64 billion (US$13\\xa0billion)\\n\\n\\n\\nFebruary\\n₹851.74 billion (US$13\\xa0billion)\\n\\n\\n\\nJanuary\\n₹863.18 billion (US$13\\xa0billion)\\n\\n\\n\\nDecember\\n₹867.06 billion (US$13\\xa0billion)\\n\\n\\n\\nNovember\\n₹808.08 billion (US$12\\xa0billion)\\n\\n\\n\\nOctober\\n₹833.46 billion (US$12\\xa0billion)\\n\\n\\n\\nSeptember\\n₹951.31 billion (US$14\\xa0billion)\\n\\n\\n\\nAugust\\n₹931.41 billion (US$14\\xa0billion)\\n\\n\\n\\nJuly\\n₹940.00 billion (US$14\\xa0billion)\\n\\n', [datetime.datetime(2018, 4, 24, 0, 0), datetime.datetime(2018, 2, 24, 0, 0), datetime.datetime(2018, 1, 24, 0, 0), datetime.datetime(2018, 12, 24, 0, 0), datetime.datetime(2018, 11, 24, 0, 0), datetime.datetime(2018, 10, 24, 0, 0), datetime.datetime(2018, 9, 24, 0, 0), datetime.datetime(2018, 8, 24, 0, 0), datetime.datetime(2018, 7, 24, 0, 0)]]\n",
      "['The states are divided into four zones for rolling out in phases by end of April 2018.', [datetime.datetime(2018, 4, 24, 0, 0)]]\n",
      "['The five states piloting are Andhra Pradesh, Gujarat, Kerala, Telangana and Uttar Pradesh, which account for 61% of the inter-state e-way bills, started mandatory intra-state e-way bill from 15th April 2018 to further reduce tax evasion.', [datetime.datetime(2018, 4, 24, 0, 0)]]\n",
      "['All states are mandated to introduce it by May 30th, 2018.', [datetime.datetime(2018, 5, 30, 0, 0)]]\n",
      "['It was made mandatory for inter-state transport of goods from 1st June 2018.', [datetime.datetime(2018, 6, 1, 0, 0)]]\n",
      "['It is put on hold until June.', [datetime.datetime(2018, 6, 24, 0, 0)]]\n",
      "['The launch was marked by a historic midnight (30 June – 1 July) session of both the houses of parliament convened at the Central Hall of the Parliament.', [datetime.datetime(2018, 6, 30, 0, 0)]]\n",
      "['\\n\\nMonth\\nNo of returns\\nChange\\n\\n\\nDecember\\n63 lakh\\n\\n\\n\\nNovember\\n64 lakh\\n\\n\\n\\nOctober\\n65 lakh\\n\\n\\n\\nSeptember\\n69 lakh\\n\\n\\n\\nAugust\\n67 lakh\\n\\n\\n\\nJuly\\n63 lakh\\n\\n', [datetime.datetime(2018, 11, 24, 0, 0), datetime.datetime(2018, 10, 24, 0, 0), datetime.datetime(2018, 9, 24, 0, 0), datetime.datetime(2018, 8, 24, 0, 0)]]\n",
      "['Around 38 lakh new taxpayers have registered under GST regime and the total count has crossed crore if we include the 64 lakh earlier ones.', [datetime.datetime(2038, 7, 24, 0, 0)]]\n"
     ]
    }
   ],
   "source": [
    "# extract_timeline('Goods_and_Services_Tax_(India)')\n",
    "extract_timeline_spacy('Goods_and_Services_Tax_(India)')"
   ]
  },
  {
   "cell_type": "code",
   "execution_count": 78,
   "metadata": {},
   "outputs": [
    {
     "data": {
      "text/plain": [
       "[datetime.datetime(2015, 2, 24, 0, 0), datetime.datetime(2017, 4, 1, 0, 0)]"
      ]
     },
     "execution_count": 78,
     "metadata": {},
     "output_type": "execute_result"
    }
   ],
   "source": [
    "# rough\n",
    "s = 'The Rajya Sabha passed these Bills on 6 April, 2017 and were then enacted as Acts on 12 April, 2017 and happedn on 6 April, 2017.'\n",
    "s = 'In February 2015, Jaitley set another deadline of 1 April 2017 to implement GST.'\n",
    "matches = find_dates(s)\n",
    "list(matches)\n",
    "# for match in matches:\n",
    "#     print(match)"
   ]
  },
  {
   "cell_type": "code",
   "execution_count": 156,
   "metadata": {},
   "outputs": [],
   "source": [
    "d = datetime(2013,1,1)"
   ]
  },
  {
   "cell_type": "code",
   "execution_count": 157,
   "metadata": {},
   "outputs": [
    {
     "data": {
      "text/plain": [
       "2013"
      ]
     },
     "execution_count": 157,
     "metadata": {},
     "output_type": "execute_result"
    }
   ],
   "source": [
    "d.year"
   ]
  },
  {
   "cell_type": "code",
   "execution_count": null,
   "metadata": {},
   "outputs": [],
   "source": []
  }
 ],
 "metadata": {
  "kernelspec": {
   "display_name": "Python 3",
   "language": "python",
   "name": "python3"
  },
  "language_info": {
   "codemirror_mode": {
    "name": "ipython",
    "version": 3
   },
   "file_extension": ".py",
   "mimetype": "text/x-python",
   "name": "python",
   "nbconvert_exporter": "python",
   "pygments_lexer": "ipython3",
   "version": "3.6.2"
  }
 },
 "nbformat": 4,
 "nbformat_minor": 2
}
