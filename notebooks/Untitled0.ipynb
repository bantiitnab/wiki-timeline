{
 "cells": [
  {
   "cell_type": "code",
   "execution_count": 7,
   "metadata": {
    "colab": {
     "autoexec": {
      "startup": false,
      "wait_interval": 0
     },
     "base_uri": "https://localhost:8080/",
     "height": 34
    },
    "colab_type": "code",
    "executionInfo": {
     "elapsed": 7585,
     "status": "ok",
     "timestamp": 1532507603529,
     "user": {
      "displayName": "akhilesh pandey",
      "photoUrl": "//lh5.googleusercontent.com/-pgy1dV864rU/AAAAAAAAAAI/AAAAAAAAEHE/rcIGTBzAS3I/s50-c-k-no/photo.jpg",
      "userId": "115319524788182777876"
     },
     "user_tz": -330
    },
    "id": "kEpctAFqkCoL",
    "outputId": "870d38d6-66d6-4421-cec8-ef55be295420"
   },
   "outputs": [
    {
     "name": "stderr",
     "output_type": "stream",
     "text": [
      "/Users/akhilesh/anaconda3/lib/python3.6/site-packages/h5py/__init__.py:34: FutureWarning: Conversion of the second argument of issubdtype from `float` to `np.floating` is deprecated. In future, it will be treated as `np.float64 == np.dtype(float).type`.\n",
      "  from ._conv import register_converters as _register_converters\n",
      "Using TensorFlow backend.\n"
     ]
    }
   ],
   "source": [
    "import numpy as np\n",
    "from keras.preprocessing.text import Tokenizer"
   ]
  },
  {
   "cell_type": "code",
   "execution_count": 4,
   "metadata": {
    "colab": {
     "autoexec": {
      "startup": false,
      "wait_interval": 0
     }
    },
    "colab_type": "code",
    "id": "7H3q5mzJkZ2k"
   },
   "outputs": [],
   "source": [
    "path = './glove.6B/'\n",
    "EMBEDDING_FILE = f'{path}glove.6B.50d.txt'"
   ]
  },
  {
   "cell_type": "code",
   "execution_count": 5,
   "metadata": {
    "colab": {
     "autoexec": {
      "startup": false,
      "wait_interval": 0
     }
    },
    "colab_type": "code",
    "id": "X9zOyG6kkbIP"
   },
   "outputs": [],
   "source": [
    "embed_size = 50\n",
    "max_words = 20000\n",
    "maxlen = 100"
   ]
  },
  {
   "cell_type": "code",
   "execution_count": 3,
   "metadata": {
    "colab": {
     "autoexec": {
      "startup": false,
      "wait_interval": 0
     },
     "base_uri": "https://localhost:8080/",
     "height": 122
    },
    "colab_type": "code",
    "executionInfo": {
     "elapsed": 1978,
     "status": "ok",
     "timestamp": 1532507641460,
     "user": {
      "displayName": "akhilesh pandey",
      "photoUrl": "//lh5.googleusercontent.com/-pgy1dV864rU/AAAAAAAAAAI/AAAAAAAAEHE/rcIGTBzAS3I/s50-c-k-no/photo.jpg",
      "userId": "115319524788182777876"
     },
     "user_tz": -330
    },
    "id": "3_2lb4Afko8t",
    "outputId": "da705662-de32-447d-c108-a4cbcbdee0c5"
   },
   "outputs": [
    {
     "name": "stdout",
     "output_type": "stream",
     "text": [
      "head: glove.6B.50d.txt: No such file or directory\r\n"
     ]
    }
   ],
   "source": [
    "!head -n 5 glove.6B.50d.txt"
   ]
  },
  {
   "cell_type": "code",
   "execution_count": 8,
   "metadata": {
    "colab": {
     "autoexec": {
      "startup": false,
      "wait_interval": 0
     }
    },
    "colab_type": "code",
    "id": "JvcOjPceklFT"
   },
   "outputs": [],
   "source": [
    "# build embedding index\n",
    "def get_coefs(word,*arr): \n",
    "    return word, np.asarray(arr, dtype='float32')\n",
    "embeddings_index = dict(get_coefs(*o.strip().split()) for o in open(EMBEDDING_FILE))"
   ]
  },
  {
   "cell_type": "code",
   "execution_count": 9,
   "metadata": {
    "colab": {
     "autoexec": {
      "startup": false,
      "wait_interval": 0
     }
    },
    "colab_type": "code",
    "id": "wM4bL1XRmcNT"
   },
   "outputs": [],
   "source": [
    "# get mean of embeddings\n",
    "all_embs = np.stack(embeddings_index.values())\n",
    "emb_mean, emb_std = all_embs.mean(), all_embs.std()"
   ]
  },
  {
   "cell_type": "code",
   "execution_count": 10,
   "metadata": {
    "colab": {
     "autoexec": {
      "startup": false,
      "wait_interval": 0
     },
     "base_uri": "https://localhost:8080/",
     "height": 204
    },
    "colab_type": "code",
    "executionInfo": {
     "elapsed": 759,
     "status": "ok",
     "timestamp": 1532508750805,
     "user": {
      "displayName": "akhilesh pandey",
      "photoUrl": "//lh5.googleusercontent.com/-pgy1dV864rU/AAAAAAAAAAI/AAAAAAAAEHE/rcIGTBzAS3I/s50-c-k-no/photo.jpg",
      "userId": "115319524788182777876"
     },
     "user_tz": -330
    },
    "id": "94y1qgkwk8Br",
    "outputId": "c8bc33ef-42c6-469f-8bcc-1865519df3d4"
   },
   "outputs": [
    {
     "data": {
      "text/plain": [
       "array([-0.48653  ,  0.1222   ,  0.25833  , -0.58008  ,  0.8847   ,\n",
       "       -0.89723  , -0.022608 ,  0.55034  , -0.71687  , -0.88763  ,\n",
       "       -0.76996  , -0.56762  , -0.0033389,  1.1139   ,  0.86669  ,\n",
       "        0.063128 , -1.1099   ,  0.69595  , -1.162    , -0.0046839,\n",
       "        1.0596   ,  0.52938  ,  1.7711   ,  0.85981  ,  0.53337  ,\n",
       "        0.38279  , -0.16643  ,  0.66045  ,  0.6289   , -0.52657  ,\n",
       "        1.3269   ,  0.80983  , -0.03682  ,  0.7566   ,  0.26205  ,\n",
       "        0.1616   ,  1.1615   , -0.6152   ,  0.26574  ,  0.013689 ,\n",
       "       -0.6277   , -0.70538  , -1.0315   , -0.19601  , -0.32116  ,\n",
       "        0.20999  ,  0.77054  , -0.17916  ,  0.075172 ,  0.87148  ],\n",
       "      dtype=float32)"
      ]
     },
     "execution_count": 10,
     "metadata": {},
     "output_type": "execute_result"
    }
   ],
   "source": [
    "embeddings_index[\"o'clock\"]"
   ]
  },
  {
   "cell_type": "code",
   "execution_count": 11,
   "metadata": {
    "colab": {
     "autoexec": {
      "startup": false,
      "wait_interval": 0
     }
    },
    "colab_type": "code",
    "id": "T-D8ItsIlP4O"
   },
   "outputs": [],
   "source": [
    "# now we can build sentence embedding by just doing average of words embeddings\n",
    "\n",
    "sentences = [\n",
    "        'John is a good person and great husband',\n",
    "        'ALice loves apples and oranges',\n",
    "        'They hate bad breath, but dont do anything about it',\n",
    "        'We are sitting at airport',\n",
    "        'Boys are girls were playing cricker',\n",
    "        'Football is the best sports in some parts and cricket in some part'\n",
    "    ]"
   ]
  },
  {
   "cell_type": "code",
   "execution_count": 18,
   "metadata": {
    "colab": {
     "autoexec": {
      "startup": false,
      "wait_interval": 0
     }
    },
    "colab_type": "code",
    "id": "pO9K7zdcsvBr"
   },
   "outputs": [],
   "source": [
    "# get probability of each word\n",
    "token_counts = {}\n",
    "total_tokens = 0\n",
    "for sentence in sentences:\n",
    "  tokens = sentence.split()\n",
    "  total_tokens += len(tokens)\n",
    "  for token in tokens:\n",
    "    token_count = token_counts.get(token, 0)\n",
    "    token_counts[token] = token_count + 1"
   ]
  },
  {
   "cell_type": "code",
   "execution_count": 19,
   "metadata": {},
   "outputs": [
    {
     "name": "stdout",
     "output_type": "stream",
     "text": [
      "47\n"
     ]
    },
    {
     "data": {
      "text/plain": [
       "{'ALice': 1,\n",
       " 'Boys': 1,\n",
       " 'Football': 1,\n",
       " 'John': 1,\n",
       " 'They': 1,\n",
       " 'We': 1,\n",
       " 'a': 1,\n",
       " 'about': 1,\n",
       " 'airport': 1,\n",
       " 'and': 3,\n",
       " 'anything': 1,\n",
       " 'apples': 1,\n",
       " 'are': 2,\n",
       " 'at': 1,\n",
       " 'bad': 1,\n",
       " 'best': 1,\n",
       " 'breath,': 1,\n",
       " 'but': 1,\n",
       " 'cricker': 1,\n",
       " 'cricket': 1,\n",
       " 'do': 1,\n",
       " 'dont': 1,\n",
       " 'girls': 1,\n",
       " 'good': 1,\n",
       " 'great': 1,\n",
       " 'hate': 1,\n",
       " 'husband': 1,\n",
       " 'in': 2,\n",
       " 'is': 2,\n",
       " 'it': 1,\n",
       " 'loves': 1,\n",
       " 'oranges': 1,\n",
       " 'part': 1,\n",
       " 'parts': 1,\n",
       " 'person': 1,\n",
       " 'playing': 1,\n",
       " 'sitting': 1,\n",
       " 'some': 2,\n",
       " 'sports': 1,\n",
       " 'the': 1,\n",
       " 'were': 1}"
      ]
     },
     "execution_count": 19,
     "metadata": {},
     "output_type": "execute_result"
    }
   ],
   "source": [
    "print(total_tokens)\n",
    "token_counts"
   ]
  },
  {
   "cell_type": "code",
   "execution_count": 24,
   "metadata": {},
   "outputs": [
    {
     "data": {
      "text/plain": [
       "{'ALice': 0.02127659574468085,\n",
       " 'Boys': 0.02127659574468085,\n",
       " 'Football': 0.02127659574468085,\n",
       " 'John': 0.02127659574468085,\n",
       " 'They': 0.02127659574468085,\n",
       " 'We': 0.02127659574468085,\n",
       " 'a': 0.02127659574468085,\n",
       " 'about': 0.02127659574468085,\n",
       " 'airport': 0.02127659574468085,\n",
       " 'and': 0.06382978723404255,\n",
       " 'anything': 0.02127659574468085,\n",
       " 'apples': 0.02127659574468085,\n",
       " 'are': 0.0425531914893617,\n",
       " 'at': 0.02127659574468085,\n",
       " 'bad': 0.02127659574468085,\n",
       " 'best': 0.02127659574468085,\n",
       " 'breath,': 0.02127659574468085,\n",
       " 'but': 0.02127659574468085,\n",
       " 'cricker': 0.02127659574468085,\n",
       " 'cricket': 0.02127659574468085,\n",
       " 'do': 0.02127659574468085,\n",
       " 'dont': 0.02127659574468085,\n",
       " 'girls': 0.02127659574468085,\n",
       " 'good': 0.02127659574468085,\n",
       " 'great': 0.02127659574468085,\n",
       " 'hate': 0.02127659574468085,\n",
       " 'husband': 0.02127659574468085,\n",
       " 'in': 0.0425531914893617,\n",
       " 'is': 0.0425531914893617,\n",
       " 'it': 0.02127659574468085,\n",
       " 'loves': 0.02127659574468085,\n",
       " 'oranges': 0.02127659574468085,\n",
       " 'part': 0.02127659574468085,\n",
       " 'parts': 0.02127659574468085,\n",
       " 'person': 0.02127659574468085,\n",
       " 'playing': 0.02127659574468085,\n",
       " 'sitting': 0.02127659574468085,\n",
       " 'some': 0.0425531914893617,\n",
       " 'sports': 0.02127659574468085,\n",
       " 'the': 0.02127659574468085,\n",
       " 'were': 0.02127659574468085}"
      ]
     },
     "execution_count": 24,
     "metadata": {},
     "output_type": "execute_result"
    }
   ],
   "source": [
    "token_probs = {}\n",
    "for key, item in token_counts.items():\n",
    "    token_probs[key] = item / total_tokens\n",
    "token_probs\n"
   ]
  },
  {
   "cell_type": "code",
   "execution_count": 25,
   "metadata": {},
   "outputs": [
    {
     "data": {
      "text/plain": [
       "array([0., 0., 0., 0.])"
      ]
     },
     "execution_count": 25,
     "metadata": {},
     "output_type": "execute_result"
    }
   ],
   "source": [
    "np.zeros(4)"
   ]
  },
  {
   "cell_type": "code",
   "execution_count": 31,
   "metadata": {
    "colab": {
     "autoexec": {
      "startup": false,
      "wait_interval": 0
     },
     "base_uri": "https://localhost:8080/",
     "height": 187
    },
    "colab_type": "code",
    "executionInfo": {
     "elapsed": 1263,
     "status": "ok",
     "timestamp": 1532509516905,
     "user": {
      "displayName": "akhilesh pandey",
      "photoUrl": "//lh5.googleusercontent.com/-pgy1dV864rU/AAAAAAAAAAI/AAAAAAAAEHE/rcIGTBzAS3I/s50-c-k-no/photo.jpg",
      "userId": "115319524788182777876"
     },
     "user_tz": -330
    },
    "id": "6_nF1B75mfRy",
    "outputId": "dfe98d4f-4ef4-4411-a7b0-f7e9e0ece693"
   },
   "outputs": [
    {
     "data": {
      "text/plain": [
       "array([ 0.16101464,  0.51786323, -0.38713278, -0.17883638,  0.86980614,\n",
       "        0.39941246, -0.27889833, -0.00501197, -0.00567496,  0.03640601,\n",
       "       -0.03825773,  0.21203098, -0.18873311, -0.02988734,  0.2721746 ,\n",
       "        0.05865019, -0.03713701,  0.32011013, -0.31438488, -0.18834033,\n",
       "       -0.16944376,  0.44106726, -0.09808517, -0.05459551,  0.46569656,\n",
       "       -1.52304722, -0.3404218 , -0.02537926,  0.44242231,  0.02128208,\n",
       "        2.94470741,  0.05870609, -0.11448792, -0.09854385,  0.19172827,\n",
       "        0.03644891,  0.01984152,  0.19727621,  0.38701765, -0.17322937,\n",
       "       -0.01512535,  0.22884634, -0.19574301,  0.13093162, -0.05403942,\n",
       "       -0.00365665, -0.15386787, -0.51251356,  0.04755753,  0.23650279])"
      ]
     },
     "execution_count": 31,
     "metadata": {},
     "output_type": "execute_result"
    }
   ],
   "source": [
    "# def sentence_embeddings(sentence):\n",
    "alpha = 1.0\n",
    "sentence = sentences[0]\n",
    "tokens = sentence.split()\n",
    "\n",
    "token_embeddings = np.random.normal(emb_mean, emb_std, (len(tokens), embed_size))\n",
    "token_coef = np.zeros(len(tokens))\n",
    "sentence_embedding = np.zeros(embed_size)\n",
    "for i, token in enumerate(tokens):\n",
    "    token_coef = alpha / (alpha + token_probs[token])\n",
    "    embedding_vector = embeddings_index.get(token, np.random.normal(emb_mean, emb_std, (embed_size)))\n",
    "    sentence_embedding += token_coef * embedding_vector                         \n",
    "\n",
    "# sentence_embedding = np.mean(token_embeddings, axis=0))                            \n",
    "sentence_embedding /= len(tokens)\n",
    "\n",
    "# get first principal compnonent and do vs ← vs − u(u.t)vs\n",
    "\n",
    "sentence_embedding\n",
    "\n",
    "\n"
   ]
  },
  {
   "cell_type": "code",
   "execution_count": 26,
   "metadata": {
    "colab": {
     "autoexec": {
      "startup": false,
      "wait_interval": 0
     },
     "base_uri": "https://localhost:8080/",
     "height": 51
    },
    "colab_type": "code",
    "executionInfo": {
     "elapsed": 927,
     "status": "ok",
     "timestamp": 1532509175708,
     "user": {
      "displayName": "akhilesh pandey",
      "photoUrl": "//lh5.googleusercontent.com/-pgy1dV864rU/AAAAAAAAAAI/AAAAAAAAEHE/rcIGTBzAS3I/s50-c-k-no/photo.jpg",
      "userId": "115319524788182777876"
     },
     "user_tz": -330
    },
    "id": "TGmxIVWKqehL",
    "outputId": "997907be-2e50-49f1-a89b-cd65dc667ffd"
   },
   "outputs": [
    {
     "data": {
      "text/plain": [
       "array([-1.01505255, -0.92710008])"
      ]
     },
     "execution_count": 26,
     "metadata": {},
     "output_type": "execute_result"
    }
   ],
   "source": [
    " np.random.normal(0, 1, (2))"
   ]
  },
  {
   "cell_type": "code",
   "execution_count": 26,
   "metadata": {
    "colab": {
     "autoexec": {
      "startup": false,
      "wait_interval": 0
     },
     "base_uri": "https://localhost:8080/",
     "height": 34
    },
    "colab_type": "code",
    "executionInfo": {
     "elapsed": 919,
     "status": "ok",
     "timestamp": 1532508459385,
     "user": {
      "displayName": "akhilesh pandey",
      "photoUrl": "//lh5.googleusercontent.com/-pgy1dV864rU/AAAAAAAAAAI/AAAAAAAAEHE/rcIGTBzAS3I/s50-c-k-no/photo.jpg",
      "userId": "115319524788182777876"
     },
     "user_tz": -330
    },
    "id": "AJMgO40ynvJ4",
    "outputId": "07285988-1814-4aa4-b816-f976691b086b"
   },
   "outputs": [
    {
     "data": {
      "text/plain": [
       "32"
      ]
     },
     "execution_count": 26,
     "metadata": {
      "tags": []
     },
     "output_type": "execute_result"
    }
   ],
   "source": [
    "a = {'a': 21, 'b': 32}\n",
    "a.get('a1', 32)"
   ]
  },
  {
   "cell_type": "code",
   "execution_count": 30,
   "metadata": {
    "colab": {
     "autoexec": {
      "startup": false,
      "wait_interval": 0
     },
     "base_uri": "https://localhost:8080/",
     "height": 34
    },
    "colab_type": "code",
    "executionInfo": {
     "elapsed": 908,
     "status": "ok",
     "timestamp": 1532508631012,
     "user": {
      "displayName": "akhilesh pandey",
      "photoUrl": "//lh5.googleusercontent.com/-pgy1dV864rU/AAAAAAAAAAI/AAAAAAAAEHE/rcIGTBzAS3I/s50-c-k-no/photo.jpg",
      "userId": "115319524788182777876"
     },
     "user_tz": -330
    },
    "id": "Q10-mYe9ny8O",
    "outputId": "1a41e1f1-76b4-4363-f974-a00dbbd7cc1d"
   },
   "outputs": [
    {
     "data": {
      "text/plain": [
       "numpy.ndarray"
      ]
     },
     "execution_count": 30,
     "metadata": {
      "tags": []
     },
     "output_type": "execute_result"
    }
   ],
   "source": [
    "a = [[1.3, 2, 3], [1.3, 2, 3], [1.3, 2, 31]]\n",
    "a = np.asarray(a)\n",
    "type(a)"
   ]
  },
  {
   "cell_type": "code",
   "execution_count": 31,
   "metadata": {
    "colab": {
     "autoexec": {
      "startup": false,
      "wait_interval": 0
     },
     "base_uri": "https://localhost:8080/",
     "height": 34
    },
    "colab_type": "code",
    "executionInfo": {
     "elapsed": 925,
     "status": "ok",
     "timestamp": 1532508649805,
     "user": {
      "displayName": "akhilesh pandey",
      "photoUrl": "//lh5.googleusercontent.com/-pgy1dV864rU/AAAAAAAAAAI/AAAAAAAAEHE/rcIGTBzAS3I/s50-c-k-no/photo.jpg",
      "userId": "115319524788182777876"
     },
     "user_tz": -330
    },
    "id": "OV9QMupboSps",
    "outputId": "c55bc194-4e57-4588-98b0-7dff8cd9cd1d"
   },
   "outputs": [
    {
     "data": {
      "text/plain": [
       "array([ 1.3       ,  2.        , 12.33333333])"
      ]
     },
     "execution_count": 31,
     "metadata": {
      "tags": []
     },
     "output_type": "execute_result"
    }
   ],
   "source": [
    "a.mean(axis=0)"
   ]
  },
  {
   "cell_type": "code",
   "execution_count": 2,
   "metadata": {
    "colab": {
     "autoexec": {
      "startup": false,
      "wait_interval": 0
     }
    },
    "colab_type": "code",
    "id": "Dn0lBYLAojUj"
   },
   "outputs": [],
   "source": [
    "import numpy as np\n",
    "a = np.random.randn(9, 6) + 1j*np.random.randn(9, 6)\n",
    "U, s, V = np.linalg.svd(a, full_matrices=True)"
   ]
  },
  {
   "cell_type": "code",
   "execution_count": 4,
   "metadata": {},
   "outputs": [
    {
     "data": {
      "text/plain": [
       "(9, 9)"
      ]
     },
     "execution_count": 4,
     "metadata": {},
     "output_type": "execute_result"
    }
   ],
   "source": [
    "U.shape"
   ]
  },
  {
   "cell_type": "code",
   "execution_count": 6,
   "metadata": {},
   "outputs": [
    {
     "data": {
      "text/plain": [
       "array([0.10322088, 0.10600236, 0.10393291, 0.11087369, 0.08096979,\n",
       "       0.10535454, 0.07988012, 0.09054558, 0.10810903])"
      ]
     },
     "execution_count": 6,
     "metadata": {},
     "output_type": "execute_result"
    }
   ],
   "source": [
    "np.var(U, axis=1)"
   ]
  },
  {
   "cell_type": "code",
   "execution_count": 22,
   "metadata": {},
   "outputs": [
    {
     "name": "stdout",
     "output_type": "stream",
     "text": [
      "[[1 2 3]\n",
      " [2 4 6]\n",
      " [3 6 9]]\n",
      "[1 2 3]\n"
     ]
    },
    {
     "data": {
      "text/plain": [
       "array([[1],\n",
       "       [2],\n",
       "       [3]])"
      ]
     },
     "execution_count": 22,
     "metadata": {},
     "output_type": "execute_result"
    }
   ],
   "source": [
    "a = np.array([1, 2, 3])\n",
    "print(np.matmul(np.expand_dims(a, axis=-1), a.reshape([1, 3])))\n",
    "print(a)\n",
    "np.expand_dims(a, axis=-1)"
   ]
  },
  {
   "cell_type": "code",
   "execution_count": 20,
   "metadata": {},
   "outputs": [
    {
     "data": {
      "text/plain": [
       "array([[1, 2, 3]])"
      ]
     },
     "execution_count": 20,
     "metadata": {},
     "output_type": "execute_result"
    }
   ],
   "source": [
    "a = a.reshape([1, a.shape[0]])\n",
    "a"
   ]
  },
  {
   "cell_type": "code",
   "execution_count": null,
   "metadata": {},
   "outputs": [],
   "source": []
  }
 ],
 "metadata": {
  "colab": {
   "collapsed_sections": [],
   "default_view": {},
   "name": "Untitled0.ipynb",
   "provenance": [],
   "version": "0.3.2",
   "views": {}
  },
  "kernelspec": {
   "display_name": "Python 3",
   "language": "python",
   "name": "python3"
  },
  "language_info": {
   "codemirror_mode": {
    "name": "ipython",
    "version": 3
   },
   "file_extension": ".py",
   "mimetype": "text/x-python",
   "name": "python",
   "nbconvert_exporter": "python",
   "pygments_lexer": "ipython3",
   "version": "3.6.2"
  }
 },
 "nbformat": 4,
 "nbformat_minor": 2
}
